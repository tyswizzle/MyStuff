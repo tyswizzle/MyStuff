{
 "cells": [
  {
   "cell_type": "markdown",
   "metadata": {},
   "source": [
    "This demo will illustrate how to develop and train a simple Convolutional Neural Network, entitled Perceptron. Perceptron functions similarly the digital logic OR Gate. "
   ]
  },
  {
   "cell_type": "code",
   "execution_count": 1,
   "metadata": {},
   "outputs": [
    {
     "name": "stdout",
     "output_type": "stream",
     "text": [
      "[0.8350361226543462, 0.1899045220571498, 0.7352562195529557]\n"
     ]
    }
   ],
   "source": [
    "import numpy, random, os\n",
    "lr = 1 #learning rate\n",
    "bias = 1 #value of bias\n",
    "weights = [random.random(),random.random(),random.random()] #weights generated in a list (3 weights in total for 2 neurons and the bias)\n",
    "print(weights)"
   ]
  },
  {
   "cell_type": "markdown",
   "metadata": {},
   "source": [
    "Let's test the model before we train it..."
   ]
  },
  {
   "cell_type": "code",
   "execution_count": 2,
   "metadata": {},
   "outputs": [
    {
     "name": "stdout",
     "output_type": "stream",
     "text": [
      "Accuracy = 0.75\n"
     ]
    }
   ],
   "source": [
    "correct = 0.0\n",
    "total = 1000\n",
    "for i in range(total) :\n",
    "    x = numpy.random.randint(2,size=1)[0]\n",
    "    y = numpy.random.randint(2,size=1)[0]\n",
    "    outputP = x*weights[0] + y*weights[1] + bias*weights[2]\n",
    "    if outputP > 0 : #activation function\n",
    "       outputP = 1\n",
    "       if x == 1 or y == 1 :\n",
    "            correct += 1\n",
    "    else :\n",
    "       outputP = 0\n",
    "       if x == 0 and y == 0 :\n",
    "            correct += 1\n",
    "accuracy = correct/total\n",
    "print(\"Accuracy = %.2f\" % accuracy)"
   ]
  },
  {
   "cell_type": "markdown",
   "metadata": {},
   "source": [
    "As you can see, by using the current weights, the model does not function as intended. Let's create a training module for Perceptron."
   ]
  },
  {
   "cell_type": "code",
   "execution_count": 3,
   "metadata": {},
   "outputs": [],
   "source": [
    "def Perceptron(input1, input2, output) :\n",
    "   outputP = input1*weights[0]+input2*weights[1]+bias*weights[2]\n",
    "   if outputP > 0 :\n",
    "      outputP = 1\n",
    "   else :\n",
    "      outputP = 0\n",
    "   error = output - outputP\n",
    "   weights[0] += error * input1 * lr\n",
    "   weights[1] += error * input2 * lr\n",
    "   weights[2] += error * bias * lr"
   ]
  },
  {
   "cell_type": "markdown",
   "metadata": {},
   "source": [
    "Next, we train the model with the correct inputs and outputs. **Careful with the number of loops, excessive training will lead to overfitting!**"
   ]
  },
  {
   "cell_type": "code",
   "execution_count": 4,
   "metadata": {},
   "outputs": [
    {
     "name": "stdout",
     "output_type": "stream",
     "text": [
      "[0.8350361226543462, 1.1899045220571498, -0.2647437804470443]\n"
     ]
    }
   ],
   "source": [
    "for i in range(50) :\n",
    "   Perceptron(1,1,1) #True or true\n",
    "   Perceptron(1,0,1) #True or false\n",
    "   Perceptron(0,1,1) #False or true\n",
    "   Perceptron(0,0,0) #False or false\n",
    "print(weights)"
   ]
  },
  {
   "cell_type": "markdown",
   "metadata": {},
   "source": [
    "As you can see, the weights given to each input and bias have changed. Now lets test the model's accuracy post training. "
   ]
  },
  {
   "cell_type": "code",
   "execution_count": 5,
   "metadata": {},
   "outputs": [
    {
     "name": "stdout",
     "output_type": "stream",
     "text": [
      "Accuracy = 1.00\n"
     ]
    }
   ],
   "source": [
    "correct = 0.0\n",
    "total = 1000\n",
    "for i in range(total) :\n",
    "    x = numpy.random.randint(2,size=1)[0]\n",
    "    y = numpy.random.randint(2,size=1)[0]\n",
    "    outputP = x*weights[0] + y*weights[1] + bias*weights[2]\n",
    "    if outputP > 0 : #activation function\n",
    "       outputP = 1\n",
    "       if x == 1 or y == 1 :\n",
    "            correct += 1\n",
    "    else :\n",
    "       outputP = 0\n",
    "       if x == 0 and y == 0 :\n",
    "            correct += 1\n",
    "accuracy = correct/total\n",
    "print(\"Accuracy = %.2f\" % accuracy)"
   ]
  },
  {
   "cell_type": "markdown",
   "metadata": {},
   "source": [
    "There you go! Preceptron is trained and ready to verify if you entered at least one 1!"
   ]
  }
 ],
 "metadata": {
  "kernelspec": {
   "display_name": "Python 3",
   "language": "python",
   "name": "python3"
  },
  "language_info": {
   "codemirror_mode": {
    "name": "ipython",
    "version": 3
   },
   "file_extension": ".py",
   "mimetype": "text/x-python",
   "name": "python",
   "nbconvert_exporter": "python",
   "pygments_lexer": "ipython3",
   "version": "3.7.6"
  }
 },
 "nbformat": 4,
 "nbformat_minor": 4
}
